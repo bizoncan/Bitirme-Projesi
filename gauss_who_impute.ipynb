{
 "cells": [
  {
   "cell_type": "markdown",
   "metadata": {},
   "source": [
    "Verinin okunması ve eksik veri kontrolü"
   ]
  },
  {
   "cell_type": "code",
   "execution_count": 24,
   "metadata": {},
   "outputs": [
    {
     "name": "stdout",
     "output_type": "stream",
     "text": [
      "       Country  Year      Status  Life expectancy   Adult Mortality  \\\n",
      "32     Algeria  2015  Developing              75.6             19.0   \n",
      "44     Algeria  2003  Developing              71.7            146.0   \n",
      "45     Algeria  2002  Developing              71.6            145.0   \n",
      "46     Algeria  2001  Developing              71.4            145.0   \n",
      "47     Algeria  2000  Developing              71.3            145.0   \n",
      "...        ...   ...         ...               ...              ...   \n",
      "2918    Zambia  2003  Developing              46.4             64.0   \n",
      "2919    Zambia  2002  Developing              45.5             69.0   \n",
      "2920    Zambia  2001  Developing              44.6            611.0   \n",
      "2921    Zambia  2000  Developing              43.8            614.0   \n",
      "2922  Zimbabwe  2015  Developing              67.0            336.0   \n",
      "\n",
      "      infant deaths  Alcohol  percentage expenditure  Hepatitis B  Measles   \\\n",
      "32               21      NaN                0.000000         95.0        63   \n",
      "44               20     0.34               25.018523          NaN     15374   \n",
      "45               20     0.36              148.511984          NaN      5862   \n",
      "46               20     0.23              147.986071          NaN      2686   \n",
      "47               21     0.25              154.455944          NaN         0   \n",
      "...             ...      ...                     ...          ...       ...   \n",
      "2918             39     2.33               65.789974          NaN       881   \n",
      "2919             41     2.44               54.043480          NaN     25036   \n",
      "2920             43     2.61               46.830275          NaN     16997   \n",
      "2921             44     2.62               45.616880          NaN     30930   \n",
      "2922             22      NaN                0.000000         87.0         0   \n",
      "\n",
      "      ...  Polio  Total expenditure  Diphtheria    HIV/AIDS          GDP  \\\n",
      "32    ...   95.0                NaN         95.0        0.1  4132.762920   \n",
      "44    ...   87.0               3.60         87.0        0.1   294.335560   \n",
      "45    ...   86.0               3.73         86.0        0.1  1774.336730   \n",
      "46    ...   89.0               3.84         89.0        0.1  1732.857979   \n",
      "47    ...   86.0               3.49         86.0        0.1  1757.177970   \n",
      "...   ...    ...                ...          ...        ...          ...   \n",
      "2918  ...   85.0               8.18         83.0       18.2   429.158343   \n",
      "2919  ...   85.0               6.93         84.0       18.4   377.135244   \n",
      "2920  ...   86.0               6.56         85.0       18.6   378.273624   \n",
      "2921  ...   85.0               7.16         85.0       18.7   341.955625   \n",
      "2922  ...   88.0                NaN         87.0        6.2   118.693830   \n",
      "\n",
      "      Population   thinness  1-19 years   thinness 5-9 years  \\\n",
      "32    39871528.0                    6.0                  5.8   \n",
      "44     3243514.0                    6.3                  6.1   \n",
      "45     3199546.0                    6.3                  6.2   \n",
      "46    31592153.0                    6.4                  6.3   \n",
      "47     3118366.0                    6.5                  6.4   \n",
      "...          ...                    ...                  ...   \n",
      "2918  11421984.0                    7.3                  7.2   \n",
      "2919    111249.0                    7.4                  7.3   \n",
      "2920   1824125.0                    7.4                  7.4   \n",
      "2921   1531221.0                    7.5                  7.5   \n",
      "2922  15777451.0                    5.6                  5.5   \n",
      "\n",
      "      Income composition of resources  Schooling  \n",
      "32                              0.743       14.4  \n",
      "44                              0.663       11.5  \n",
      "45                              0.653       11.1  \n",
      "46                              0.644       10.9  \n",
      "47                              0.636       10.7  \n",
      "...                               ...        ...  \n",
      "2918                            0.443       10.2  \n",
      "2919                            0.433       10.0  \n",
      "2920                            0.424        9.8  \n",
      "2921                            0.418        9.6  \n",
      "2922                            0.507       10.3  \n",
      "\n",
      "[1289 rows x 22 columns]\n"
     ]
    }
   ],
   "source": [
    "import pandas as pd\n",
    "import numpy as np\n",
    "from sklearn.gaussian_process import GaussianProcessRegressor\n",
    "from sklearn.gaussian_process.kernels import RBF, ConstantKernel as C\n",
    "\n",
    "\n",
    "df = pd.read_csv('Life Expectancy Data.csv')\n",
    "\n",
    "missing_data = df[df.isnull().any(axis=1)]\n",
    "\n",
    "print(missing_data)\n"
   ]
  },
  {
   "cell_type": "code",
   "execution_count": 25,
   "metadata": {},
   "outputs": [
    {
     "name": "stdout",
     "output_type": "stream",
     "text": [
      "Her sütundaki eksik veri sayıları:\n",
      "Country                              0\n",
      "Year                                 0\n",
      "Status                               0\n",
      "Life expectancy                     10\n",
      "Adult Mortality                     10\n",
      "infant deaths                        0\n",
      "Alcohol                            194\n",
      "percentage expenditure               0\n",
      "Hepatitis B                        553\n",
      "Measles                              0\n",
      " BMI                                34\n",
      "under-five deaths                    0\n",
      "Polio                               19\n",
      "Total expenditure                  226\n",
      "Diphtheria                          19\n",
      " HIV/AIDS                            0\n",
      "GDP                                448\n",
      "Population                         652\n",
      " thinness  1-19 years               34\n",
      " thinness 5-9 years                 34\n",
      "Income composition of resources    167\n",
      "Schooling                          163\n",
      "dtype: int64\n"
     ]
    }
   ],
   "source": [
    "missing_counts = df.isnull().sum()\n",
    "\n",
    "print(\"Her sütundaki eksik veri sayıları:\")\n",
    "print(missing_counts)\n"
   ]
  },
  {
   "cell_type": "markdown",
   "metadata": {},
   "source": [
    "Verileri standartlaştırma"
   ]
  },
  {
   "cell_type": "code",
   "execution_count": 26,
   "metadata": {},
   "outputs": [],
   "source": [
    "from sklearn.preprocessing import StandardScaler\n",
    "\n",
    "\n",
    "scaler = StandardScaler()\n",
    "scaled_data = scaler.fit_transform(df.select_dtypes(include=[np.number]))  # Only scale numeric data\n",
    "scaled_df = pd.DataFrame(scaled_data, columns=df.select_dtypes(include=[np.number]).columns)\n",
    "\n",
    "\n"
   ]
  },
  {
   "cell_type": "markdown",
   "metadata": {},
   "source": [
    "Kolonları teker teker eksik var mı yok mu kontrol ediyoruz. Eksik olan verileri test, eksik olmayanları train verisi olarak ayırıyoruz. Modeli eğitirken satırlarda herhangi bir eksik olamamsı için eksik satır içeren verileri temizliyoruz. Model eğitilip eksik veriler tamamlanıyor. (Modelin çalışması biraz uzun sürüyor)"
   ]
  },
  {
   "cell_type": "code",
   "execution_count": 27,
   "metadata": {},
   "outputs": [
    {
     "name": "stdout",
     "output_type": "stream",
     "text": [
      "Imputing missing values for column: Life expectancy \n",
      "Imputing missing values for column: Adult Mortality\n",
      "Imputing missing values for column: Alcohol\n",
      "Imputing missing values for column: Hepatitis B\n",
      "Imputing missing values for column:  BMI \n",
      "Imputing missing values for column: Polio\n",
      "Imputing missing values for column: Total expenditure\n",
      "Imputing missing values for column: Diphtheria \n",
      "Imputing missing values for column: GDP\n",
      "Imputing missing values for column: Population\n",
      "Imputing missing values for column:  thinness  1-19 years\n",
      "Imputing missing values for column:  thinness 5-9 years\n",
      "Imputing missing values for column: Income composition of resources\n",
      "Imputing missing values for column: Schooling\n"
     ]
    }
   ],
   "source": [
    "for col in scaled_df.columns:\n",
    "    if scaled_df[col].isnull().sum() > 0:  # If the column has missing values\n",
    "        print(f\"Imputing missing values for column: {col}\")\n",
    "        \n",
    "        # Separate rows with and without missing values\n",
    "        train_data = scaled_df[scaled_df[col].notnull()]\n",
    "        test_data = scaled_df[scaled_df[col].isnull()]\n",
    "        \n",
    "        # Use other columns as features\n",
    "        X_train = train_data.drop(columns=[col]).values\n",
    "        y_train = train_data[col].values\n",
    "        X_test = test_data.drop(columns=[col]).values\n",
    "        \n",
    "        # Handle missing values in X_train and X_test\n",
    "        valid_train_rows = ~np.isnan(X_train).any(axis=1)  # Remove rows with NaN in X_train\n",
    "        X_train = X_train[valid_train_rows]\n",
    "        y_train = y_train[valid_train_rows]\n",
    "        \n",
    "        # Temporarily fill NaNs in X_test with column means (or another strategy)\n",
    "        X_test = np.nan_to_num(X_test, nan=np.nanmean(X_train, axis=0))\n",
    "        \n",
    "        # Define the Gaussian Process model\n",
    "        kernel = C(1.0, (1e-3, 1e3)) * RBF(1.0, (1e-3, 1e3))\n",
    "        gpr = GaussianProcessRegressor(kernel=kernel, n_restarts_optimizer=10, alpha=1e-2)\n",
    "        \n",
    "        # Fit the model\n",
    "        gpr.fit(X_train, y_train)\n",
    "        \n",
    "        # Predict the missing values\n",
    "        y_pred, y_std = gpr.predict(X_test, return_std=True)\n",
    "        \n",
    "        # Fill the missing values\n",
    "        scaled_df.loc[scaled_df[col].isnull(), col] = y_pred"
   ]
  },
  {
   "cell_type": "code",
   "execution_count": null,
   "metadata": {},
   "outputs": [
    {
     "name": "stdout",
     "output_type": "stream",
     "text": [
      "Her sütundaki eksik veri sayıları:\n",
      "Country                            0\n",
      "Year                               0\n",
      "Status                             0\n",
      "Life expectancy                    0\n",
      "Adult Mortality                    0\n",
      "infant deaths                      0\n",
      "Alcohol                            0\n",
      "percentage expenditure             0\n",
      "Hepatitis B                        0\n",
      "Measles                            0\n",
      " BMI                               0\n",
      "under-five deaths                  0\n",
      "Polio                              0\n",
      "Total expenditure                  0\n",
      "Diphtheria                         0\n",
      " HIV/AIDS                          0\n",
      "GDP                                0\n",
      "Population                         0\n",
      " thinness  1-19 years              0\n",
      " thinness 5-9 years                0\n",
      "Income composition of resources    0\n",
      "Schooling                          0\n",
      "dtype: int64\n"
     ]
    }
   ],
   "source": [
    "imputed_data = scaler.inverse_transform(scaled_df)\n",
    "imputed_df = pd.DataFrame(imputed_data, columns=df.select_dtypes(include=[np.number]).columns)\n",
    "\n",
    "# Replace the original numeric columns with imputed values\n",
    "for col in imputed_df.columns:\n",
    "    df[col] = imputed_df[col]\n",
    "\n",
    "\n",
    "\n",
    "missing_counts = df.isnull().sum()\n",
    "\n",
    "print(\"Her sütundaki eksik veri sayıları:\")\n",
    "print(missing_counts)"
   ]
  }
 ],
 "metadata": {
  "kernelspec": {
   "display_name": "base",
   "language": "python",
   "name": "python3"
  },
  "language_info": {
   "codemirror_mode": {
    "name": "ipython",
    "version": 3
   },
   "file_extension": ".py",
   "mimetype": "text/x-python",
   "name": "python",
   "nbconvert_exporter": "python",
   "pygments_lexer": "ipython3",
   "version": "3.11.3"
  }
 },
 "nbformat": 4,
 "nbformat_minor": 2
}
