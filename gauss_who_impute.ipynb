{
 "cells": [
  {
   "cell_type": "markdown",
   "metadata": {},
   "source": [
    "Verinin okunması ve eksik veri kontrolü"
   ]
  },
  {
   "cell_type": "code",
   "execution_count": 1,
   "metadata": {},
   "outputs": [
    {
     "name": "stdout",
     "output_type": "stream",
     "text": [
      "       Country  Year      Status  Life expectancy   Adult Mortality  \\\n",
      "32     Algeria  2015  Developing              75.6             19.0   \n",
      "44     Algeria  2003  Developing              71.7            146.0   \n",
      "45     Algeria  2002  Developing              71.6            145.0   \n",
      "46     Algeria  2001  Developing              71.4            145.0   \n",
      "47     Algeria  2000  Developing              71.3            145.0   \n",
      "...        ...   ...         ...               ...              ...   \n",
      "2918    Zambia  2003  Developing              46.4             64.0   \n",
      "2919    Zambia  2002  Developing              45.5             69.0   \n",
      "2920    Zambia  2001  Developing              44.6            611.0   \n",
      "2921    Zambia  2000  Developing              43.8            614.0   \n",
      "2922  Zimbabwe  2015  Developing              67.0            336.0   \n",
      "\n",
      "      infant deaths  Alcohol  percentage expenditure  Hepatitis B  Measles   \\\n",
      "32               21      NaN                0.000000         95.0        63   \n",
      "44               20     0.34               25.018523          NaN     15374   \n",
      "45               20     0.36              148.511984          NaN      5862   \n",
      "46               20     0.23              147.986071          NaN      2686   \n",
      "47               21     0.25              154.455944          NaN         0   \n",
      "...             ...      ...                     ...          ...       ...   \n",
      "2918             39     2.33               65.789974          NaN       881   \n",
      "2919             41     2.44               54.043480          NaN     25036   \n",
      "2920             43     2.61               46.830275          NaN     16997   \n",
      "2921             44     2.62               45.616880          NaN     30930   \n",
      "2922             22      NaN                0.000000         87.0         0   \n",
      "\n",
      "      ...  Polio  Total expenditure  Diphtheria    HIV/AIDS          GDP  \\\n",
      "32    ...   95.0                NaN         95.0        0.1  4132.762920   \n",
      "44    ...   87.0               3.60         87.0        0.1   294.335560   \n",
      "45    ...   86.0               3.73         86.0        0.1  1774.336730   \n",
      "46    ...   89.0               3.84         89.0        0.1  1732.857979   \n",
      "47    ...   86.0               3.49         86.0        0.1  1757.177970   \n",
      "...   ...    ...                ...          ...        ...          ...   \n",
      "2918  ...   85.0               8.18         83.0       18.2   429.158343   \n",
      "2919  ...   85.0               6.93         84.0       18.4   377.135244   \n",
      "2920  ...   86.0               6.56         85.0       18.6   378.273624   \n",
      "2921  ...   85.0               7.16         85.0       18.7   341.955625   \n",
      "2922  ...   88.0                NaN         87.0        6.2   118.693830   \n",
      "\n",
      "      Population   thinness  1-19 years   thinness 5-9 years  \\\n",
      "32    39871528.0                    6.0                  5.8   \n",
      "44     3243514.0                    6.3                  6.1   \n",
      "45     3199546.0                    6.3                  6.2   \n",
      "46    31592153.0                    6.4                  6.3   \n",
      "47     3118366.0                    6.5                  6.4   \n",
      "...          ...                    ...                  ...   \n",
      "2918  11421984.0                    7.3                  7.2   \n",
      "2919    111249.0                    7.4                  7.3   \n",
      "2920   1824125.0                    7.4                  7.4   \n",
      "2921   1531221.0                    7.5                  7.5   \n",
      "2922  15777451.0                    5.6                  5.5   \n",
      "\n",
      "      Income composition of resources  Schooling  \n",
      "32                              0.743       14.4  \n",
      "44                              0.663       11.5  \n",
      "45                              0.653       11.1  \n",
      "46                              0.644       10.9  \n",
      "47                              0.636       10.7  \n",
      "...                               ...        ...  \n",
      "2918                            0.443       10.2  \n",
      "2919                            0.433       10.0  \n",
      "2920                            0.424        9.8  \n",
      "2921                            0.418        9.6  \n",
      "2922                            0.507       10.3  \n",
      "\n",
      "[1289 rows x 22 columns]\n"
     ]
    }
   ],
   "source": [
    "import pandas as pd\n",
    "import numpy as np\n",
    "from sklearn.gaussian_process import GaussianProcessRegressor\n",
    "from sklearn.gaussian_process.kernels import RBF, ConstantKernel as C\n",
    "\n",
    "\n",
    "df = pd.read_csv('Life Expectancy Data.csv')\n",
    "\n",
    "missing_data = df[df.isnull().any(axis=1)]\n",
    "\n",
    "print(missing_data)\n"
   ]
  },
  {
   "cell_type": "code",
   "execution_count": 2,
   "metadata": {},
   "outputs": [
    {
     "name": "stdout",
     "output_type": "stream",
     "text": [
      "Her sütundaki eksik veri sayıları:\n",
      "Country                              0\n",
      "Year                                 0\n",
      "Status                               0\n",
      "Life expectancy                     10\n",
      "Adult Mortality                     10\n",
      "infant deaths                        0\n",
      "Alcohol                            194\n",
      "percentage expenditure               0\n",
      "Hepatitis B                        553\n",
      "Measles                              0\n",
      " BMI                                34\n",
      "under-five deaths                    0\n",
      "Polio                               19\n",
      "Total expenditure                  226\n",
      "Diphtheria                          19\n",
      " HIV/AIDS                            0\n",
      "GDP                                448\n",
      "Population                         652\n",
      " thinness  1-19 years               34\n",
      " thinness 5-9 years                 34\n",
      "Income composition of resources    167\n",
      "Schooling                          163\n",
      "dtype: int64\n"
     ]
    }
   ],
   "source": [
    "missing_counts = df.isnull().sum()\n",
    "\n",
    "print(\"Her sütundaki eksik veri sayıları:\")\n",
    "print(missing_counts)\n"
   ]
  },
  {
   "cell_type": "markdown",
   "metadata": {},
   "source": [
    "Girdi ve çıktıların ayrılaması. Girdide bulunan eksiklerin giderilmesi."
   ]
  },
  {
   "cell_type": "code",
   "execution_count": 3,
   "metadata": {},
   "outputs": [
    {
     "name": "stdout",
     "output_type": "stream",
     "text": [
      "0     0\n",
      "1     0\n",
      "2     0\n",
      "3     0\n",
      "4     0\n",
      "5     0\n",
      "6     0\n",
      "7     0\n",
      "8     0\n",
      "9     0\n",
      "10    0\n",
      "11    0\n",
      "12    0\n",
      "13    0\n",
      "14    0\n",
      "15    0\n",
      "16    0\n",
      "17    0\n",
      "18    0\n",
      "dtype: int64\n"
     ]
    }
   ],
   "source": [
    "from sklearn.impute import KNNImputer  \n",
    "\n",
    "\n",
    "y = df['Life expectancy '] \n",
    "X = df.drop(columns=['Life expectancy ']).select_dtypes(include=['number']) \n",
    "\n",
    "imputed_X = X.copy()\n",
    "\n",
    "impute_knn = KNNImputer(n_neighbors=10)\n",
    "imputed_data = impute_knn.fit_transform(X)\n",
    "\n",
    "imputed_df = pd.DataFrame(imputed_data)\n",
    "\n",
    "imputed_X = imputed_df\n",
    "\n",
    "print(imputed_X.isna().sum())\n",
    "\n",
    "\n"
   ]
  },
  {
   "cell_type": "markdown",
   "metadata": {},
   "source": [
    "GaussianProcess ile çıktıdaki eksiklerin giderilmesi."
   ]
  },
  {
   "cell_type": "code",
   "execution_count": 4,
   "metadata": {},
   "outputs": [
    {
     "name": "stderr",
     "output_type": "stream",
     "text": [
      "c:\\Users\\New\\anaconda3\\Lib\\site-packages\\sklearn\\gaussian_process\\kernels.py:430: ConvergenceWarning: The optimal value found for dimension 0 of parameter k1__constant_value is close to the specified upper bound 10.0. Increasing the bound and calling fit again may find a better value.\n",
      "  warnings.warn(\n",
      "c:\\Users\\New\\anaconda3\\Lib\\site-packages\\sklearn\\gaussian_process\\kernels.py:430: ConvergenceWarning: The optimal value found for dimension 0 of parameter k2__length_scale is close to the specified upper bound 10.0. Increasing the bound and calling fit again may find a better value.\n",
      "  warnings.warn(\n"
     ]
    },
    {
     "name": "stdout",
     "output_type": "stream",
     "text": [
      "0\n"
     ]
    }
   ],
   "source": [
    "missing_y_idx = y[y.isnull()].index\n",
    "\n",
    "\n",
    "not_missing_y = y.dropna()\n",
    "not_missing_X = imputed_X.loc[not_missing_y.index]\n",
    "\n",
    "kernel = C(1.0, (1e-4, 1e1)) * RBF(1.0, (1e-4, 1e1))  \n",
    "gp = GaussianProcessRegressor(kernel=kernel, n_restarts_optimizer=10, random_state=42)\n",
    "\n",
    "\n",
    "gp.fit(not_missing_X, not_missing_y)\n",
    "\n",
    "\n",
    "imputed_y = gp.predict(imputed_X.loc[missing_y_idx])\n",
    "\n",
    "y_imputed = y.copy()\n",
    "y_imputed[missing_y_idx] = imputed_y\n",
    "\n",
    "print(y_imputed.isna().sum())"
   ]
  }
 ],
 "metadata": {
  "kernelspec": {
   "display_name": "Python 3",
   "language": "python",
   "name": "python3"
  },
  "language_info": {
   "codemirror_mode": {
    "name": "ipython",
    "version": 3
   },
   "file_extension": ".py",
   "mimetype": "text/x-python",
   "name": "python",
   "nbconvert_exporter": "python",
   "pygments_lexer": "ipython3",
   "version": "3.11.3"
  }
 },
 "nbformat": 4,
 "nbformat_minor": 2
}
