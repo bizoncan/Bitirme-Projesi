{
 "cells": [
  {
   "cell_type": "markdown",
   "metadata": {},
   "source": [
    "Küçük veri seti"
   ]
  },
  {
   "cell_type": "code",
   "execution_count": 1,
   "metadata": {},
   "outputs": [
    {
     "name": "stdout",
     "output_type": "stream",
     "text": [
      "Requirement already satisfied: pandas in c:\\users\\new\\anaconda3\\lib\\site-packages (1.5.3)\n",
      "Requirement already satisfied: python-dateutil>=2.8.1 in c:\\users\\new\\appdata\\roaming\\python\\python311\\site-packages (from pandas) (2.9.0.post0)\n",
      "Requirement already satisfied: pytz>=2020.1 in c:\\users\\new\\anaconda3\\lib\\site-packages (from pandas) (2022.7)\n",
      "Requirement already satisfied: numpy>=1.21.0 in c:\\users\\new\\anaconda3\\lib\\site-packages (from pandas) (1.24.3)\n",
      "Requirement already satisfied: six>=1.5 in c:\\users\\new\\appdata\\roaming\\python\\python311\\site-packages (from python-dateutil>=2.8.1->pandas) (1.16.0)\n"
     ]
    }
   ],
   "source": [
    "!pip install pandas"
   ]
  },
  {
   "cell_type": "code",
   "execution_count": 9,
   "metadata": {},
   "outputs": [
    {
     "name": "stdout",
     "output_type": "stream",
     "text": [
      "    Age  Height  Weight  Class\n",
      "0  25.0     165      60      0\n",
      "1  30.0     170      65      1\n",
      "2  35.0     175      70      1\n",
      "3  40.0     180      75      1\n",
      "4   NaN     160      62      0\n",
      "5  28.0     168      66      1\n"
     ]
    }
   ],
   "source": [
    "import pandas as pd\n",
    "import numpy as np\n",
    "\n",
    "# Veri setini oluşturalım\n",
    "data = {\n",
    "    \"Age\": [25, 30, 35, 40, np.nan, 28],\n",
    "    \"Height\": [165, 170, 175, 180, 160, 168],\n",
    "    \"Weight\": [60, 65, 70, 75, 62, 66],\n",
    "    \"Class\": [0, 1, 1, 1, 0, 1]\n",
    "}\n",
    "\n",
    "# DataFrame olarak düzenleyelim\n",
    "df = pd.DataFrame(data)\n",
    "\n",
    "print(df)"
   ]
  },
  {
   "cell_type": "code",
   "execution_count": 10,
   "metadata": {},
   "outputs": [],
   "source": [
    "from sklearn.experimental import enable_iterative_imputer\n",
    "from sklearn.impute import IterativeImputer"
   ]
  },
  {
   "cell_type": "code",
   "execution_count": 11,
   "metadata": {},
   "outputs": [
    {
     "data": {
      "text/plain": [
       "array([[ 25.        , 165.        ,  60.        ,   0.        ],\n",
       "       [ 30.        , 170.        ,  65.        ,   1.        ],\n",
       "       [ 35.        , 175.        ,  70.        ,   1.        ],\n",
       "       [ 40.        , 180.        ,  75.        ,   1.        ],\n",
       "       [ 20.00000402, 160.        ,  62.        ,   0.        ],\n",
       "       [ 28.        , 168.        ,  66.        ,   1.        ]])"
      ]
     },
     "execution_count": 11,
     "metadata": {},
     "output_type": "execute_result"
    }
   ],
   "source": [
    "impute_it = IterativeImputer()\n",
    "impute_it.fit_transform(df)"
   ]
  },
  {
   "cell_type": "code",
   "execution_count": 13,
   "metadata": {},
   "outputs": [],
   "source": [
    "from sklearn.impute import KNNImputer"
   ]
  },
  {
   "cell_type": "code",
   "execution_count": 14,
   "metadata": {},
   "outputs": [
    {
     "data": {
      "text/plain": [
       "array([[ 25.        , 165.        ,  60.        ,   0.        ],\n",
       "       [ 30.        , 170.        ,  65.        ,   1.        ],\n",
       "       [ 35.        , 175.        ,  70.        ,   1.        ],\n",
       "       [ 40.        , 180.        ,  75.        ,   1.        ],\n",
       "       [ 27.66666667, 160.        ,  62.        ,   0.        ],\n",
       "       [ 28.        , 168.        ,  66.        ,   1.        ]])"
      ]
     },
     "execution_count": 14,
     "metadata": {},
     "output_type": "execute_result"
    }
   ],
   "source": [
    "impute_knn = KNNImputer(n_neighbors=3)\n",
    "impute_knn.fit_transform(df)"
   ]
  }
 ],
 "metadata": {
  "kernelspec": {
   "display_name": "Python 3",
   "language": "python",
   "name": "python3"
  },
  "language_info": {
   "codemirror_mode": {
    "name": "ipython",
    "version": 3
   },
   "file_extension": ".py",
   "mimetype": "text/x-python",
   "name": "python",
   "nbconvert_exporter": "python",
   "pygments_lexer": "ipython3",
   "version": "3.11.3"
  }
 },
 "nbformat": 4,
 "nbformat_minor": 2
}
